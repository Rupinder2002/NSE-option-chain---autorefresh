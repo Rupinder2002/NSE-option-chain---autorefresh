{
 "cells": [
  {
   "cell_type": "code",
   "execution_count": 1,
   "id": "b0ef49ca",
   "metadata": {},
   "outputs": [],
   "source": [
    "#pip install nsepy matplotlib"
   ]
  },
  {
   "cell_type": "code",
   "execution_count": 2,
   "id": "d7961345",
   "metadata": {},
   "outputs": [],
   "source": [
    "from nsepy import get_index_pe_history\n",
    "from datetime import date\n",
    "import pandas as pd\n",
    "import matplotlib.pyplot as plt\n",
    "import math\n",
    "import time\n",
    "import numpy as np"
   ]
  },
  {
   "cell_type": "code",
   "execution_count": 3,
   "id": "0ab0ff49",
   "metadata": {},
   "outputs": [],
   "source": [
    "# User can add indices as per requirement\n",
    "symbol_list = [\"NIFTY\",\"NIFTY IT\",\"NIFTY BANK\",\"NIFTY FMCG\",\"NIFTY AUTO\",\"NIFTY OIL & GAS\"]\n",
    "\n",
    "#User can edit the start date for history\n",
    "start_date = date(2000,1,1)\n",
    "end_date = date.today()"
   ]
  },
  {
   "cell_type": "code",
   "execution_count": 4,
   "id": "a45d8f53",
   "metadata": {},
   "outputs": [],
   "source": [
    "output = pd.DataFrame()\n"
   ]
  },
  {
   "cell_type": "code",
   "execution_count": 5,
   "id": "329e155a",
   "metadata": {},
   "outputs": [],
   "source": [
    "def pe_data():  \n",
    "    for i in symbol_list:\n",
    "        data = get_index_pe_history(symbol =  i ,\n",
    "                                start= start_date,\n",
    "                                end= end_date)\n",
    "        data['Index'] = i\n",
    "        global output\n",
    "        output = output.append(data)\n",
    "    return(output)"
   ]
  },
  {
   "cell_type": "code",
   "execution_count": null,
   "id": "54c447c3",
   "metadata": {},
   "outputs": [],
   "source": [
    "pe_data()"
   ]
  },
  {
   "cell_type": "code",
   "execution_count": 6,
   "id": "beeb2f0b",
   "metadata": {},
   "outputs": [],
   "source": [
    "if output.shape[0] == 0:\n",
    "    output_length = 0\n",
    "else:\n",
    "    output_length = len(output['Index'].unique())\n",
    "\n",
    "input_length = len(symbol_list)\n",
    "\n"
   ]
  },
  {
   "cell_type": "code",
   "execution_count": null,
   "id": "788307cc",
   "metadata": {},
   "outputs": [],
   "source": [
    "# The API always does not return results as it times out. I put in a while loop to say that keep running the pe_data function until my length of input variable is equal to length of output variable \n",
    "start_time = time.time()\n",
    "\n",
    "while output_length != input_length:\n",
    "    pe_data()\n",
    "    #print('No Result Yet')\n",
    "    if output_length == input_length:\n",
    "        current_time = time.time()\n",
    "        elapsed_time = current_time - start_time\n",
    "        print('Sucsess' + ' ' + str(elapsed_time) + 'seconds')\n",
    "        break"
   ]
  },
  {
   "cell_type": "code",
   "execution_count": null,
   "id": "18ee678e",
   "metadata": {},
   "outputs": [],
   "source": [
    "#Create a 252 long term average for P/E and P/B\n",
    "output['Mean P/E'] = np.round(output.groupby('Index')['P/E'].transform(lambda x: x.rolling(252, 1).mean()),2)\n",
    "output['Mean P/B'] = np.round(output.groupby('Index')['P/B'].transform(lambda x: x.rolling(252, 1).mean()),2)\n",
    "\n"
   ]
  },
  {
   "cell_type": "code",
   "execution_count": null,
   "id": "39ada787",
   "metadata": {},
   "outputs": [],
   "source": [
    "#P/E Plot\n",
    "fig, axs = plt.subplots(nrows= math.ceil(len(symbol_list)/2), ncols=2,figsize = (20,10) ,facecolor= 'lightgray')\n",
    "plt.subplots_adjust(hspace=0.4,wspace=0.4)\n",
    "plt.rcParams[\"font.family\"] = \"Cambria\"\n",
    "fig.suptitle(\"P/E Ratio\", fontsize=20 , color = 'black' , weight = 'bold')\n",
    "\n",
    "\n",
    "ax = axs.ravel()\n",
    "\n",
    "for symbol, i in zip(symbol_list, range(0,len(symbol_list))):\n",
    "    y1 = output[output[\"Index\"] == symbol]['P/E']\n",
    "    y2 = output[output[\"Index\"] == symbol]['Mean P/E']\n",
    "    latest_value = output[output[\"Index\"] == symbol]['P/E'].iloc[-1]\n",
    "    latest_value_mean = output[output[\"Index\"] == symbol]['Mean P/E'].iloc[-1]\n",
    "    ax[i].plot(y1,color = 'blue' , linewidth = 1)\n",
    "    ax[i].plot(y2,color = 'red' , linewidth = 2)\n",
    "    ax[i].set_title(symbol + '   Current P/E:  ' + str(latest_value) +'   252d MA:  ' + str(latest_value_mean), fontsize = 15)\n",
    "    ax[i].set_xlabel('Date', fontsize = 15)\n",
    "    ax[i].set_ylabel('P/E', fontsize = 15)\n",
    "    ax[i].legend(['P/E','252d MA'] , fontsize = 15)\n",
    "    \n",
    "fig.tight_layout()"
   ]
  },
  {
   "cell_type": "code",
   "execution_count": null,
   "id": "fa664d4c",
   "metadata": {},
   "outputs": [],
   "source": [
    "#P/B Plot\n",
    "fig, axs = plt.subplots(nrows= math.ceil(len(symbol_list)/2), ncols=2,figsize = (20,10) ,facecolor= 'lightgray')\n",
    "plt.subplots_adjust(hspace=0.4,wspace=0.4)\n",
    "plt.rcParams[\"font.family\"] = \"Cambria\"\n",
    "fig.suptitle(\"P/B Ratio\", fontsize=20 , color = 'black' , weight = 'bold')\n",
    "\n",
    "\n",
    "ax = axs.ravel()\n",
    "\n",
    "for symbol, i in zip(symbol_list, range(0,len(symbol_list))):\n",
    "    y1 = output[output[\"Index\"] == symbol]['P/B']\n",
    "    y2 = output[output[\"Index\"] == symbol]['Mean P/B']\n",
    "    latest_value = output[output[\"Index\"] == symbol]['P/B'].iloc[-1]\n",
    "    latest_value_mean = output[output[\"Index\"] == symbol]['Mean P/B'].iloc[-1]\n",
    "    ax[i].plot(y1,color = 'blue' , linewidth = 1)\n",
    "    ax[i].plot(y2,color = 'red' , linewidth = 2)\n",
    "    ax[i].set_title(symbol + '   Current P/B:  ' + str(latest_value) +'   252d MA:  ' + str(latest_value_mean), fontsize = 15)\n",
    "    ax[i].set_xlabel('Date', fontsize = 15)\n",
    "    ax[i].set_ylabel('P/B', fontsize = 15)\n",
    "    ax[i].legend(['P/B','252d MA'] , fontsize = 15)\n",
    "    \n",
    "fig.tight_layout()"
   ]
  }
 ],
 "metadata": {
  "kernelspec": {
   "display_name": "Python 3 (ipykernel)",
   "language": "python",
   "name": "python3"
  },
  "language_info": {
   "codemirror_mode": {
    "name": "ipython",
    "version": 3
   },
   "file_extension": ".py",
   "mimetype": "text/x-python",
   "name": "python",
   "nbconvert_exporter": "python",
   "pygments_lexer": "ipython3",
   "version": "3.9.7"
  }
 },
 "nbformat": 4,
 "nbformat_minor": 5
}
